{
 "cells": [
  {
   "cell_type": "markdown",
   "id": "09b22c87",
   "metadata": {},
   "source": [
    "## Columns\n",
    "- price price in US dollars (\\$326--\\$18,823) \n",
    "- carat weight of the diamond (0.2--5.01)\n",
    "- cut quality of the cut (Fair, Good, Very Good, Premium, Ideal)\n",
    "- color diamond colour, from J (worst) to D (best)\n",
    "- clarity a measurement of how clear the diamond is (I1 (worst), SI2, SI1, VS2, VS1, VVS2, VVS1, IF (best))\n",
    "- x length in mm (0--10.74)\n",
    "- y width in mm (0--58.9)\n",
    "- z depth in mm (0--31.8)\n",
    "- depth total depth percentage = z / mean(x, y) = 2 * z / (x + y) (43--79)\n",
    "- table width of top of diamond relative to widest point (43--95)"
   ]
  },
  {
   "cell_type": "markdown",
   "id": "251cdf75",
   "metadata": {},
   "source": [
    "# Importing Libraries"
   ]
  },
  {
   "cell_type": "code",
   "execution_count": null,
   "id": "ee8faee8",
   "metadata": {},
   "outputs": [],
   "source": [
    "import numpy as np\n",
    "import pandas as pd\n",
    "import matplotlib.pyplot as plt\n",
    "import seaborn as sns\n",
    "from sklearn.pipeline import make_pipeline\n",
    "from sklearn.metrics import mean_squared_error\n",
    "from sklearn.model_selection import GridSearchCV\n",
    "from xgboost import XGBRegressor"
   ]
  },
  {
   "cell_type": "markdown",
   "id": "f8d38cc0",
   "metadata": {},
   "source": [
    "# Reading the data"
   ]
  },
  {
   "cell_type": "code",
   "execution_count": null,
   "id": "b9de33b0",
   "metadata": {},
   "outputs": [],
   "source": [
    "D_Train=pd.read_csv(\"dataset/train.csv\")\n",
    "D_Train.drop(labels=['Id'], axis=1,inplace=True)"
   ]
  },
  {
   "cell_type": "code",
   "execution_count": null,
   "id": "5847562a",
   "metadata": {},
   "outputs": [],
   "source": [
    "D_Train.head()"
   ]
  },
  {
   "cell_type": "markdown",
   "id": "9e95af1e",
   "metadata": {},
   "source": [
    "<div style=\"float:left\">\n",
    "    <h3> carat </h3>\n",
    "<img src= \"https://cdn.loosegrowndiamond.com/wp-content/uploads/2022/02/different-carat-sizes.png\" alt=\"carat image\" width=\"450\" height=\"500\"></div>\n",
    "\n",
    "<div style=\"float:right\">\n",
    "    <h3> cut </h3>\n",
    "<img src= \"https://cdn.shopify.com/s/files/1/0403/0762/2040/files/diamond-chart-cut_2_1024x1024.jpg?v=1617401955\" alt=\"cut image\" width=\"450\" height=\"500\"></div>\n",
    "\n",
    "<div style=\"float:left\">\n",
    "    <h3> clarity </h3>\n",
    "<img src= \"https://assets-rarecarat.s3.amazonaws.com/images/blog/clarity-chart.jpg\" alt=\"cut image\" width=\"450\" height=\"500\"></div>\n",
    "\n",
    "<div style=\"float:right\">\n",
    "    <h3> color </h3>\n",
    "<img src= \"https://www.brides.com/thmb/GBtDWdJwsYmu17LqrVGm2lR49nU=/1500x0/filters:no_upscale():max_bytes(150000):strip_icc()/diamond-color-chart-5093397_horizontal-b8d3872096fd47c78d244d40cc920099.png\" alt=\"color image\" width=\"450\" height=\"500\"></div>\n"
   ]
  },
  {
   "cell_type": "markdown",
   "id": "69f97c26",
   "metadata": {},
   "source": [
    "### Take a Quick Look at the Data Structure"
   ]
  },
  {
   "cell_type": "code",
   "execution_count": null,
   "id": "2bbd1a0a",
   "metadata": {
    "scrolled": true
   },
   "outputs": [],
   "source": [
    "D_Train.shape"
   ]
  },
  {
   "cell_type": "markdown",
   "id": "605d078f",
   "metadata": {},
   "source": [
    "> We have `43152` records and `11` Features"
   ]
  },
  {
   "cell_type": "code",
   "execution_count": null,
   "id": "71707487",
   "metadata": {},
   "outputs": [],
   "source": [
    "D_Train.info()"
   ]
  },
  {
   "cell_type": "markdown",
   "id": "8fe02207",
   "metadata": {},
   "source": [
    "> normal data types and the data doesn't have any null values"
   ]
  },
  {
   "cell_type": "code",
   "execution_count": null,
   "id": "067a0420",
   "metadata": {},
   "outputs": [],
   "source": [
    "D_Train.describe()"
   ]
  },
  {
   "cell_type": "markdown",
   "id": "fb5c5133",
   "metadata": {},
   "source": [
    "> abnormal values in `x`,`y` and `z` columns min = 0"
   ]
  },
  {
   "cell_type": "code",
   "execution_count": null,
   "id": "f105b6db",
   "metadata": {},
   "outputs": [],
   "source": [
    "D_Train.median(numeric_only= True)"
   ]
  },
  {
   "cell_type": "markdown",
   "id": "3a92796d",
   "metadata": {},
   "source": [
    "> may be there are some outliers values in `price` column"
   ]
  },
  {
   "cell_type": "markdown",
   "id": "0fe82a95",
   "metadata": {},
   "source": [
    "# Cleaning the data (null and duplicated values)"
   ]
  },
  {
   "cell_type": "code",
   "execution_count": null,
   "id": "9f12658a",
   "metadata": {
    "scrolled": true
   },
   "outputs": [],
   "source": [
    "D_Train.isnull().sum()"
   ]
  },
  {
   "cell_type": "code",
   "execution_count": null,
   "id": "b38496e2",
   "metadata": {},
   "outputs": [],
   "source": [
    "D_Train.isna().sum().sum()"
   ]
  },
  {
   "cell_type": "code",
   "execution_count": null,
   "id": "d89ba0a0",
   "metadata": {},
   "outputs": [],
   "source": [
    "D_Train.drop_duplicates(inplace= True)"
   ]
  },
  {
   "cell_type": "code",
   "execution_count": null,
   "id": "d99664d6",
   "metadata": {},
   "outputs": [],
   "source": [
    "cat_cols= D_Train.columns[1:4]\n",
    "num_cols= D_Train.columns[4:].insert(0, D_Train.columns[0])\n",
    "print(cat_cols)\n",
    "print(num_cols)"
   ]
  },
  {
   "cell_type": "code",
   "execution_count": null,
   "id": "df715dc3",
   "metadata": {},
   "outputs": [],
   "source": [
    "for cat_col in cat_cols:\n",
    "    print(cat_col+ \"\\n\"+ str(D_Train[cat_col].value_counts(normalize= True) * 100) + \"\\n\")"
   ]
  },
  {
   "cell_type": "code",
   "execution_count": null,
   "id": "07a48878",
   "metadata": {},
   "outputs": [],
   "source": [
    "fig, axes = plt.subplots(2, 2, figsize=(8,8))\n",
    "c,r= 0, 0\n",
    "for cat_col in cat_cols:\n",
    "    x= D_Train[cat_col].value_counts()\n",
    "\n",
    "    axes[r, c].pie(x, labels= x.index, autopct= '%1.1f%%')\n",
    "    axes[r, c].set_title(cat_col)\n",
    "    c= c + 1\n",
    "    if c == 2:\n",
    "        r= r + 1\n",
    "        c= 0\n",
    "\n",
    "    \n",
    "plt.show()"
   ]
  },
  {
   "cell_type": "markdown",
   "id": "91e0654c",
   "metadata": {},
   "source": [
    "> the data is unbalanced, <br>Ideal cut is 39.87% of `cut` column and fair is only 3%, <br>G is 21.00 % of `color` column and j is only 5.31%<br>SI1 is 24.17% of `clarity` column and I1 is only 1.40%"
   ]
  },
  {
   "cell_type": "markdown",
   "id": "ea36e20c",
   "metadata": {},
   "source": [
    "# Discover and Visualize the Data to Gain Insights"
   ]
  },
  {
   "cell_type": "code",
   "execution_count": null,
   "id": "b98eba2d",
   "metadata": {},
   "outputs": [],
   "source": [
    "df_corr= D_Train.corr()\n",
    "sns.heatmap(df_corr, annot= True)\n",
    "plt.show()"
   ]
  },
  {
   "cell_type": "markdown",
   "id": "589c5b73",
   "metadata": {},
   "source": [
    "> there are a strong linear relation between (`carat`, `x`, `y`, `z`) columns and `price` column"
   ]
  },
  {
   "cell_type": "code",
   "execution_count": null,
   "id": "7797b672",
   "metadata": {},
   "outputs": [],
   "source": [
    "sns.pairplot(D_Train)\n",
    "plt.show()"
   ]
  },
  {
   "cell_type": "markdown",
   "id": "63669d74",
   "metadata": {},
   "source": [
    "> some columns values take curved shape"
   ]
  },
  {
   "cell_type": "code",
   "execution_count": null,
   "id": "dcaecf95",
   "metadata": {},
   "outputs": [],
   "source": [
    "D_Train.hist(bins= 70, figsize=(15, 10))\n",
    "plt.show()"
   ]
  },
  {
   "cell_type": "markdown",
   "id": "5d7d451a",
   "metadata": {},
   "source": [
    "> the data has outliers. `depth`, `table`, `y` and `x` columns are normaly distributed. other columns is positive (left) skewed"
   ]
  },
  {
   "cell_type": "code",
   "execution_count": null,
   "id": "3c15553b",
   "metadata": {},
   "outputs": [],
   "source": [
    "fig, axes = plt.subplots(2, 2, figsize=(12,10))\n",
    "r, c =0, 0\n",
    "for cat_col in cat_cols:\n",
    "    sns.boxplot(ax=axes[r, c], data=D_Train, y='price', x= D_Train[cat_col])\n",
    "    c= c + 1\n",
    "    if c == 2:\n",
    "        r= r + 1\n",
    "        c= 0\n",
    "    \n",
    "plt.show()"
   ]
  },
  {
   "cell_type": "code",
   "execution_count": null,
   "id": "4a3d2f16",
   "metadata": {},
   "outputs": [],
   "source": [
    "fig, axes = plt.subplots(3, 3, figsize=(12,10))\n",
    "r, c =0, 0\n",
    "for num_col in num_cols:\n",
    "    sns.boxplot(ax=axes[r, c], x= D_Train[num_col] )\n",
    "    c= c + 1\n",
    "    if c == 3:\n",
    "        r= r + 1\n",
    "        c= 0\n",
    "    \n",
    "plt.show()"
   ]
  },
  {
   "cell_type": "markdown",
   "id": "51bdf905",
   "metadata": {},
   "source": [
    "### Handel outliers"
   ]
  },
  {
   "cell_type": "code",
   "execution_count": null,
   "id": "b0cdb4e8",
   "metadata": {},
   "outputs": [],
   "source": [
    "print(f\"rows= {D_Train.shape[0]}\")\n",
    "zero_df= D_Train[(D_Train['x'] == 0) | (D_Train['y'] == 0) | (D_Train['z'] <= 1.07)]\n",
    "D_Train.drop(zero_df.index, inplace= True)\n",
    "print(f\"rows= {D_Train.shape[0]}\")"
   ]
  },
  {
   "cell_type": "code",
   "execution_count": null,
   "id": "e9831c17",
   "metadata": {},
   "outputs": [],
   "source": [
    "D_Train.nlargest(5, \"x\")"
   ]
  },
  {
   "cell_type": "code",
   "execution_count": null,
   "id": "07926f88",
   "metadata": {},
   "outputs": [],
   "source": [
    "D_Train.nlargest(5, \"y\")"
   ]
  },
  {
   "cell_type": "code",
   "execution_count": null,
   "id": "058a8050",
   "metadata": {},
   "outputs": [],
   "source": [
    "D_Train.nlargest(5, \"z\")"
   ]
  },
  {
   "cell_type": "code",
   "execution_count": null,
   "id": "c78a851e",
   "metadata": {},
   "outputs": [],
   "source": [
    "print(f\"rows= {D_Train.shape[0]}\")\n",
    "largest_df= D_Train[(D_Train['x'] == 10.74) | (D_Train['y'] >= 31.80) | (D_Train['z'] == 31.80)]\n",
    "D_Train.drop(largest_df.index, inplace= True)\n",
    "print(f\"rows= {D_Train.shape[0]}\")"
   ]
  },
  {
   "cell_type": "code",
   "execution_count": null,
   "id": "988a1f5f",
   "metadata": {},
   "outputs": [],
   "source": [
    "sns.pairplot(D_Train[['x', 'y', 'z', 'price']])\n",
    "plt.show()"
   ]
  },
  {
   "cell_type": "markdown",
   "id": "ef89872c",
   "metadata": {},
   "source": [
    "> also x, y, z columns are curved"
   ]
  },
  {
   "cell_type": "markdown",
   "id": "09835bfe",
   "metadata": {},
   "source": [
    "# Prepare the data for ML.  "
   ]
  },
  {
   "cell_type": "markdown",
   "id": "01387cc5",
   "metadata": {},
   "source": [
    "## Combining x,y,z with one column called size"
   ]
  },
  {
   "cell_type": "code",
   "execution_count": null,
   "id": "02c04c7a",
   "metadata": {},
   "outputs": [],
   "source": [
    "D_Train['size']=D_Train['x']*D_Train['y']*D_Train['z']\n",
    "D_Train.drop(labels=['x','y','z'], axis=1,inplace=True)\n",
    "D_Train.head()"
   ]
  },
  {
   "cell_type": "code",
   "execution_count": null,
   "id": "2123d759",
   "metadata": {},
   "outputs": [],
   "source": [
    "D_Train_num =D_Train.select_dtypes(include=[np.number])"
   ]
  },
  {
   "cell_type": "markdown",
   "id": "b5a9b10c",
   "metadata": {},
   "source": [
    "## Getting Standard Scaler"
   ]
  },
  {
   "cell_type": "code",
   "execution_count": null,
   "id": "3b76b8f7",
   "metadata": {},
   "outputs": [],
   "source": [
    "from sklearn.preprocessing import StandardScaler\n",
    "std_scaler = StandardScaler()\n",
    "D_Train_num_std_scaled = std_scaler.fit_transform(D_Train_num)\n",
    "print(D_Train_num_std_scaled[:,0])"
   ]
  },
  {
   "cell_type": "code",
   "execution_count": null,
   "id": "1cc6e411",
   "metadata": {},
   "outputs": [],
   "source": [
    "D_Train_cat=D_Train[[\"cut\",'color',\"clarity\"]] "
   ]
  },
  {
   "cell_type": "markdown",
   "id": "36e54554",
   "metadata": {},
   "source": [
    "## Getting OrdinalEncoder to encode categorical values"
   ]
  },
  {
   "cell_type": "code",
   "execution_count": null,
   "id": "bc82b95f",
   "metadata": {},
   "outputs": [],
   "source": [
    "from sklearn.preprocessing import OrdinalEncoder\n",
    "categories = [\n",
    "    ['Ideal','Premium','Very Good','Good','Fair'],\n",
    "    ['D','E','F','G','H','I','J'],\n",
    "    ['IF', 'VVS1', 'VVS2', 'VS1', 'VS2', 'SI1', 'SI2','I1']\n",
    "]\n",
    "\n",
    "ordinal_encoder = OrdinalEncoder(categories=categories)\n",
    "D_Train_encoded=ordinal_encoder.fit_transform(D_Train_cat)\n"
   ]
  },
  {
   "cell_type": "code",
   "execution_count": null,
   "id": "f9933ddf",
   "metadata": {},
   "outputs": [],
   "source": [
    "print(ordinal_encoder.categories_)"
   ]
  },
  {
   "cell_type": "markdown",
   "id": "55080cdb",
   "metadata": {},
   "source": [
    "## Splitting the data into test and train sets"
   ]
  },
  {
   "cell_type": "code",
   "execution_count": null,
   "id": "3ef53b41",
   "metadata": {},
   "outputs": [],
   "source": [
    "from sklearn.model_selection import train_test_split\n",
    "train_set,test_set= train_test_split(D_Train, test_size=0.2, random_state=42)"
   ]
  },
  {
   "cell_type": "markdown",
   "id": "3a14ec05",
   "metadata": {},
   "source": [
    "## Putting the modifications we made to the data into a pipeline"
   ]
  },
  {
   "cell_type": "code",
   "execution_count": null,
   "id": "b5c8e44a",
   "metadata": {},
   "outputs": [],
   "source": [
    "from sklearn.pipeline import Pipeline\n",
    "from sklearn.compose import ColumnTransformer\n",
    "\n",
    "Diamond=train_set.drop(\"price\",axis=1)\n",
    "Diamond_labels=train_set['price'].copy()\n",
    "X_test=test_set.drop(\"price\",axis=1)\n",
    "Y_test=test_set['price'].copy()\n",
    "Diamond_num = Diamond.drop(['cut','color','clarity'], axis=1)\n",
    "num_attribs=list(Diamond_num)\n",
    "cat_attribs = ['cut','color','clarity']\n",
    "num_pipeline = Pipeline([\n",
    " ('std_scaler', StandardScaler())])\n",
    "\n",
    "full_pipeline = ColumnTransformer([\n",
    " (\"num\", num_pipeline, num_attribs),\n",
    " (\"cat\", ordinal_encoder, cat_attribs)])\n",
    "Diamond_prepared = full_pipeline.fit_transform(Diamond)"
   ]
  },
  {
   "cell_type": "markdown",
   "id": "34fe7277",
   "metadata": {},
   "source": [
    "# Select a model and train it."
   ]
  },
  {
   "cell_type": "markdown",
   "id": "0e2e439e",
   "metadata": {},
   "source": [
    "# Linear Regression"
   ]
  },
  {
   "cell_type": "code",
   "execution_count": null,
   "id": "5de81b28",
   "metadata": {},
   "outputs": [],
   "source": [
    "rmse_all= {}"
   ]
  },
  {
   "cell_type": "code",
   "execution_count": null,
   "id": "20c40f0d",
   "metadata": {},
   "outputs": [],
   "source": [
    "from sklearn.linear_model import LinearRegression\n",
    "\n",
    "lr_model= make_pipeline(full_pipeline, LinearRegression())\n",
    "lr_model.fit(Diamond, Diamond_labels)"
   ]
  },
  {
   "cell_type": "code",
   "execution_count": null,
   "id": "0fc77889",
   "metadata": {},
   "outputs": [],
   "source": [
    "y_pred_lr= lr_model.predict(X_test)\n",
    "lr_rmse = mean_squared_error(Y_test, y_pred_lr, squared=False)\n",
    "rmse_all[\"lr\"] = lr_rmse\n",
    "lr_rmse"
   ]
  },
  {
   "cell_type": "markdown",
   "id": "ec976aa5",
   "metadata": {},
   "source": [
    "## Polynomial Regression"
   ]
  },
  {
   "cell_type": "code",
   "execution_count": null,
   "id": "e0370524",
   "metadata": {},
   "outputs": [],
   "source": [
    "from sklearn.preprocessing import PolynomialFeatures\n",
    "\n",
    "poly_features= make_pipeline(full_pipeline, PolynomialFeatures(degree = 2))\n",
    "X_poly= poly_features.fit_transform(Diamond, Diamond_labels)"
   ]
  },
  {
   "cell_type": "code",
   "execution_count": null,
   "id": "8d133852",
   "metadata": {},
   "outputs": [],
   "source": [
    "poly_model= LinearRegression()\n",
    "poly_model.fit(X_poly, Diamond_labels)"
   ]
  },
  {
   "cell_type": "code",
   "execution_count": null,
   "id": "d779988d",
   "metadata": {},
   "outputs": [],
   "source": [
    "poly_test= make_pipeline(full_pipeline, PolynomialFeatures(degree = 2))\n",
    "x_test_poly= poly_test.fit_transform(X_test)\n",
    "\n",
    "y_pred_poly= poly_model.predict(x_test_poly)\n",
    "poly_rmse = mean_squared_error(Y_test, y_pred_poly, squared=False)\n",
    "rmse_all[\"poly\"] = poly_rmse\n",
    "poly_rmse"
   ]
  },
  {
   "cell_type": "markdown",
   "id": "227988a3",
   "metadata": {},
   "source": [
    "## SVM"
   ]
  },
  {
   "cell_type": "code",
   "execution_count": null,
   "id": "c94290b5",
   "metadata": {},
   "outputs": [],
   "source": [
    "from sklearn.svm import SVR \n",
    "\n",
    "svr_model = make_pipeline(full_pipeline,SVR(kernel='poly', degree= 2))\n",
    "svr_model.fit(Diamond, Diamond_labels)"
   ]
  },
  {
   "cell_type": "code",
   "execution_count": null,
   "id": "52be5ac4",
   "metadata": {},
   "outputs": [],
   "source": [
    "y_pred_svr=svr_model.predict(X_test)\n",
    "svr_rmse = mean_squared_error(Y_test, y_pred_svr, squared=False)\n",
    "rmse_all[\"svr\"] = svr_rmse\n",
    "svr_rmse"
   ]
  },
  {
   "cell_type": "markdown",
   "id": "e11efce0",
   "metadata": {},
   "source": [
    "## Random Forest"
   ]
  },
  {
   "cell_type": "code",
   "execution_count": null,
   "id": "61aaa26a",
   "metadata": {},
   "outputs": [],
   "source": [
    "from sklearn.ensemble import RandomForestRegressor\n",
    "\n",
    "rand_forest_model = make_pipeline(full_pipeline,RandomForestRegressor(n_estimators=100, random_state=42))\n",
    "rand_forest_model.fit(Diamond, Diamond_labels)"
   ]
  },
  {
   "cell_type": "code",
   "execution_count": null,
   "id": "e601c62c",
   "metadata": {},
   "outputs": [],
   "source": [
    "y_pred_rand_forest=rand_forest_model.predict(X_test)\n",
    "rand_forest_rmse = mean_squared_error(Y_test, y_pred_rand_forest, squared=False)\n",
    "rmse_all[\"rand_forest\"] = rand_forest_rmse\n",
    "rand_forest_rmse"
   ]
  },
  {
   "cell_type": "markdown",
   "id": "fe5a6e2b",
   "metadata": {},
   "source": [
    "## XGboost"
   ]
  },
  {
   "cell_type": "code",
   "execution_count": null,
   "id": "0f5d29ec",
   "metadata": {},
   "outputs": [],
   "source": [
    "XGB_model = make_pipeline(full_pipeline,XGBRegressor())\n",
    "XGB_model.fit(Diamond, Diamond_labels)"
   ]
  },
  {
   "cell_type": "code",
   "execution_count": null,
   "id": "7d9ae5d6",
   "metadata": {},
   "outputs": [],
   "source": [
    "y_pred_XGB=XGB_model.predict(X_test)\n",
    "xgb_rmse = mean_squared_error(Y_test, y_pred_XGB, squared=False)\n",
    "rmse_all[\"XGboost\"] = xgb_rmse\n",
    "xgb_rmse"
   ]
  },
  {
   "cell_type": "code",
   "execution_count": null,
   "id": "27e35581",
   "metadata": {},
   "outputs": [],
   "source": [
    "rmse_all"
   ]
  },
  {
   "cell_type": "markdown",
   "id": "fa35d9d8",
   "metadata": {},
   "source": [
    "> XGboost has the lowest RMSE (the best model)"
   ]
  },
  {
   "cell_type": "markdown",
   "id": "6854b752",
   "metadata": {},
   "source": [
    "# Fine-Tuning the model's hyperparameters"
   ]
  },
  {
   "cell_type": "code",
   "execution_count": null,
   "id": "81d8d2be",
   "metadata": {},
   "outputs": [],
   "source": [
    "param_grid={\n",
    "    'XGB__max_depth': [1, 5, None],\n",
    "    'XGB__reg_alpha': [0, 50,100,150],\n",
    "    'XGB__reg_lambda': [.15,.20,.10,0],\n",
    "    'XGB__n_estimators': [10,50,100,150,200],\n",
    "    'XGB__learning_rate': [.15,.17]\n",
    "}"
   ]
  },
  {
   "cell_type": "code",
   "execution_count": null,
   "id": "4f6330b2",
   "metadata": {},
   "outputs": [],
   "source": [
    "XGboost= Pipeline([\n",
    " (\"preprocessing\", full_pipeline),\n",
    " (\"XGB\", XGBRegressor()),\n",
    "])\n",
    "\n",
    "grid_search = GridSearchCV(XGboost, param_grid, cv=5,scoring='neg_root_mean_squared_error',return_train_score = True,n_jobs=-1)\n",
    "grid_search.fit(Diamond, Diamond_labels)"
   ]
  },
  {
   "cell_type": "code",
   "execution_count": null,
   "id": "d4a3e124",
   "metadata": {},
   "outputs": [],
   "source": [
    "grid_search.best_params_"
   ]
  },
  {
   "cell_type": "code",
   "execution_count": null,
   "id": "d91c3866",
   "metadata": {},
   "outputs": [],
   "source": [
    "final_model = grid_search.best_estimator_"
   ]
  },
  {
   "cell_type": "code",
   "execution_count": null,
   "id": "ba9c8d7d",
   "metadata": {},
   "outputs": [],
   "source": [
    "y_pred_XGB=final_model.predict(X_test)\n",
    "rf_rmse = mean_squared_error(Y_test, y_pred_XGB, squared=False)\n",
    "rf_rmse"
   ]
  },
  {
   "cell_type": "markdown",
   "id": "e029a1e6",
   "metadata": {},
   "source": [
    "# Creating the submisson"
   ]
  },
  {
   "cell_type": "code",
   "execution_count": null,
   "id": "fff34ec2",
   "metadata": {},
   "outputs": [],
   "source": [
    "df_test=pd.read_csv('dataset/test.csv')\n",
    "df_test['size']=df_test['x']*df_test['y']*df_test['z']\n",
    "df_test.drop(labels=['x','y','z'], axis=1,inplace=True)\n",
    "df_test.head()"
   ]
  },
  {
   "cell_type": "code",
   "execution_count": null,
   "id": "0e07d652",
   "metadata": {},
   "outputs": [],
   "source": [
    "id_test= df_test['Id']\n",
    "df_test.drop(labels= ['Id'], axis=1,inplace=True)"
   ]
  },
  {
   "cell_type": "code",
   "execution_count": null,
   "id": "4c35bb4b",
   "metadata": {},
   "outputs": [],
   "source": [
    "y_pred= final_model.predict(df_test)"
   ]
  },
  {
   "cell_type": "code",
   "execution_count": null,
   "id": "05a2e8e0",
   "metadata": {},
   "outputs": [],
   "source": [
    "submission = pd.DataFrame({\"id\": id_test, \"price\": y_pred})"
   ]
  },
  {
   "cell_type": "code",
   "execution_count": null,
   "id": "3a709e17",
   "metadata": {},
   "outputs": [],
   "source": [
    "submission.to_csv('submission.csv',index=None)"
   ]
  }
 ],
 "metadata": {
  "kernelspec": {
   "display_name": "Python 3 (ipykernel)",
   "language": "python",
   "name": "python3"
  },
  "language_info": {
   "codemirror_mode": {
    "name": "ipython",
    "version": 3
   },
   "file_extension": ".py",
   "mimetype": "text/x-python",
   "name": "python",
   "nbconvert_exporter": "python",
   "pygments_lexer": "ipython3",
   "version": "3.11.4"
  }
 },
 "nbformat": 4,
 "nbformat_minor": 5
}
